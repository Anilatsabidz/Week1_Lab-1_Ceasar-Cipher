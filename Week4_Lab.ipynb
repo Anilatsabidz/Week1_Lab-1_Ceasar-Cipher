{
  "nbformat": 4,
  "nbformat_minor": 0,
  "metadata": {
    "colab": {
      "provenance": [],
      "authorship_tag": "ABX9TyOGsLr71/Wq2uoFwNwPdl/s",
      "include_colab_link": true
    },
    "kernelspec": {
      "name": "python3",
      "display_name": "Python 3"
    },
    "language_info": {
      "name": "python"
    }
  },
  "cells": [
    {
      "cell_type": "markdown",
      "metadata": {
        "id": "view-in-github",
        "colab_type": "text"
      },
      "source": [
        "<a href=\"https://colab.research.google.com/github/Anilatsabidz/Week1_Lab-1_Ceasar-Cipher/blob/main/Week4_Lab.ipynb\" target=\"_parent\"><img src=\"https://colab.research.google.com/assets/colab-badge.svg\" alt=\"Open In Colab\"/></a>"
      ]
    },
    {
      "cell_type": "code",
      "execution_count": 4,
      "metadata": {
        "colab": {
          "base_uri": "https://localhost:8080/"
        },
        "id": "hOaueO2zbg1h",
        "outputId": "73293e49-0c2a-4cf5-d9ed-90424005b9eb"
      },
      "outputs": [
        {
          "output_type": "stream",
          "name": "stdout",
          "text": [
            "Requirement already satisfied: pycryptodome in /usr/local/lib/python3.11/dist-packages (3.22.0)\n",
            "Requirement already satisfied: cryptography in /usr/local/lib/python3.11/dist-packages (43.0.3)\n",
            "Requirement already satisfied: cffi>=1.12 in /usr/local/lib/python3.11/dist-packages (from cryptography) (1.17.1)\n",
            "Requirement already satisfied: pycparser in /usr/local/lib/python3.11/dist-packages (from cffi>=1.12->cryptography) (2.22)\n",
            "All files created. Ready to upload to GitHub.\n"
          ]
        }
      ],
      "source": [
        "# Install required libraries\n",
        "!pip install pycryptodome cryptography\n",
        "\n",
        "# Step 1: Create a message.txt file\n",
        "with open(\"message.txt\", \"w\") as f:\n",
        "    f.write(\"This is a secret message for OpenSSL lab assignment.\")\n",
        "\n",
        "# RSA KEY GENERATION\n",
        "from cryptography.hazmat.primitives.asymmetric import rsa\n",
        "from cryptography.hazmat.primitives import serialization\n",
        "\n",
        "# Generate RSA Key Pair\n",
        "private_key = rsa.generate_private_key(public_exponent=65537, key_size=2048)\n",
        "public_key = private_key.public_key()\n",
        "\n",
        "# Save Private Key\n",
        "with open(\"private.pem\", \"wb\") as f:\n",
        "    f.write(private_key.private_bytes(\n",
        "        encoding=serialization.Encoding.PEM,\n",
        "        format=serialization.PrivateFormat.TraditionalOpenSSL,\n",
        "        encryption_algorithm=serialization.NoEncryption()\n",
        "    ))\n",
        "\n",
        "# Save Public Key\n",
        "with open(\"public.pem\", \"wb\") as f:\n",
        "    f.write(public_key.public_bytes(\n",
        "        encoding=serialization.Encoding.PEM,\n",
        "        format=serialization.PublicFormat.SubjectPublicKeyInfo\n",
        "    ))\n",
        "\n",
        "# RSA ENCRYPTION\n",
        "from cryptography.hazmat.primitives.asymmetric import padding\n",
        "from cryptography.hazmat.primitives import hashes\n",
        "\n",
        "# Read original message\n",
        "with open(\"message.txt\", \"rb\") as f:\n",
        "    message = f.read()\n",
        "\n",
        "# Encrypt message using public key\n",
        "rsa_encrypted = public_key.encrypt(\n",
        "    message,\n",
        "    padding.OAEP(mgf=padding.MGF1(algorithm=hashes.SHA256()), algorithm=hashes.SHA256(), label=None)\n",
        ")\n",
        "\n",
        "# Save encrypted message\n",
        "with open(\"message_rsa_encrypted.bin\", \"wb\") as f:\n",
        "    f.write(rsa_encrypted)\n",
        "\n",
        "# RSA DECRYPTION\n",
        "# Decrypt message using private key\n",
        "rsa_decrypted = private_key.decrypt(\n",
        "    rsa_encrypted,\n",
        "    padding.OAEP(mgf=padding.MGF1(algorithm=hashes.SHA256()), algorithm=hashes.SHA256(), label=None)\n",
        ")\n",
        "\n",
        "# Save decrypted message\n",
        "with open(\"message_rsa_decrypted.txt\", \"wb\") as f:\n",
        "    f.write(rsa_decrypted)\n",
        "\n",
        "# AES ENCRYPTION\n",
        "from Crypto.Cipher import AES\n",
        "from Crypto.Random import get_random_bytes\n",
        "\n",
        "# Generate AES key and IV\n",
        "aes_key = get_random_bytes(32)  # AES-256\n",
        "aes_iv = get_random_bytes(16)   # 16-byte IV for CBC\n",
        "\n",
        "# Save key and IV\n",
        "with open(\"aes_key.bin\", \"wb\") as f:\n",
        "    f.write(aes_key)\n",
        "\n",
        "with open(\"aes_iv.bin\", \"wb\") as f:\n",
        "    f.write(aes_iv)\n",
        "\n",
        "# Pad message to be multiple of block size\n",
        "from Crypto.Util.Padding import pad, unpad\n",
        "\n",
        "cipher_aes = AES.new(aes_key, AES.MODE_CBC, aes_iv)\n",
        "aes_encrypted = cipher_aes.encrypt(pad(message, AES.block_size))\n",
        "\n",
        "# Save encrypted file\n",
        "with open(\"message_aes_encrypted.bin\", \"wb\") as f:\n",
        "    f.write(aes_encrypted)\n",
        "\n",
        "#  AES DECRYPTION\n",
        "cipher_aes = AES.new(aes_key, AES.MODE_CBC, aes_iv)\n",
        "aes_decrypted = unpad(cipher_aes.decrypt(aes_encrypted), AES.block_size)\n",
        "\n",
        "# Save decrypted message\n",
        "with open(\"message_aes_decrypted.txt\", \"wb\") as f:\n",
        "    f.write(aes_decrypted)\n",
        "\n",
        "#  RSA vs AES Explanation\n",
        "rsa_vs_aes = \"\"\"\n",
        "RSA vs AES:\n",
        "\n",
        "- RSA is asymmetric, uses key pair (public/private), and is slower.\n",
        "- AES is symmetric, uses same key for encryption and decryption, and is much faster.\n",
        "- RSA is better for small data or secure key exchange, AES is used for bulk encryption.\n",
        "\"\"\"\n",
        "with open(\"rsa_vs_aes.txt\", \"w\") as f:\n",
        "    f.write(rsa_vs_aes)\n",
        "\n",
        "print(\"All files created. Ready to upload to GitHub.\")"
      ]
    }
  ]
}